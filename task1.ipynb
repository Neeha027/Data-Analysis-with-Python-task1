{
 "cells": [
  {
   "cell_type": "code",
   "execution_count": 1,
   "id": "81a61fad-737b-47b7-a9b0-7ff45592c60f",
   "metadata": {},
   "outputs": [
    {
     "name": "stdout",
     "output_type": "stream",
     "text": [
      "['honey', 'is', 'the', 'best']\n"
     ]
    }
   ],
   "source": [
    "mylist=[\"honey\",\"is\",\"the\",\"best\"]\n",
    "print(mylist)\n"
   ]
  },
  {
   "cell_type": "code",
   "execution_count": 2,
   "id": "7ccced36-ab85-4c96-9604-f45c6ccf0ab4",
   "metadata": {},
   "outputs": [
    {
     "name": "stdout",
     "output_type": "stream",
     "text": [
      "4\n"
     ]
    }
   ],
   "source": [
    "list2=[\"honey\",\"ho\",\"roni\",\"manu\"]\n",
    "print(len(list2))"
   ]
  },
  {
   "cell_type": "code",
   "execution_count": 6,
   "id": "77e4cd11-915f-4418-b497-2d2b3730721d",
   "metadata": {},
   "outputs": [
    {
     "name": "stdout",
     "output_type": "stream",
     "text": [
      "<class 'list'>\n"
     ]
    }
   ],
   "source": [
    "list3=[\"movies\",\"books\",\"pens\"]\n",
    "print(type(list3))"
   ]
  },
  {
   "cell_type": "code",
   "execution_count": 4,
   "id": "6a27759a-7fe3-4434-a81b-104054cb00e3",
   "metadata": {},
   "outputs": [
    {
     "name": "stdout",
     "output_type": "stream",
     "text": [
      "['hi', 'hello', 'hey']\n"
     ]
    }
   ],
   "source": [
    "list4=list((\"hi\",\"hello\",\"hey\"))\n",
    "print(list4)"
   ]
  },
  {
   "cell_type": "code",
   "execution_count": 5,
   "id": "fd1919ea-9657-446e-9712-5f8bc4fe217c",
   "metadata": {},
   "outputs": [
    {
     "name": "stdout",
     "output_type": "stream",
     "text": [
      "dad\n"
     ]
    }
   ],
   "source": [
    "list5=[\"mom\",\"dad\",\"sis\",\"bro\"]\n",
    "print(list5[1])\n"
   ]
  },
  {
   "cell_type": "code",
   "execution_count": 7,
   "id": "5b4875b5-192f-41ed-9d09-280af67cc76c",
   "metadata": {},
   "outputs": [
    {
     "name": "stdout",
     "output_type": "stream",
     "text": [
      "o\n"
     ]
    }
   ],
   "source": [
    "list6=[\"j\",\"k\",\"l\",\"i\",\"o\"]\n",
    "print(list6[-1])"
   ]
  },
  {
   "cell_type": "code",
   "execution_count": 8,
   "id": "f1088a5d-a677-4623-9c1a-90b474daa20b",
   "metadata": {},
   "outputs": [
    {
     "name": "stdout",
     "output_type": "stream",
     "text": [
      "i\n"
     ]
    }
   ],
   "source": [
    "print(list6[-2])"
   ]
  },
  {
   "cell_type": "code",
   "execution_count": 9,
   "id": "12210c76-1182-4d3e-89ca-2d87f25bb6eb",
   "metadata": {},
   "outputs": [
    {
     "name": "stdout",
     "output_type": "stream",
     "text": [
      "['l', 'i']\n"
     ]
    }
   ],
   "source": [
    "print(list6[2:4])"
   ]
  },
  {
   "cell_type": "code",
   "execution_count": 10,
   "id": "bd5ed65a-ed4c-4f22-91fa-bc529a1802b7",
   "metadata": {},
   "outputs": [
    {
     "name": "stdout",
     "output_type": "stream",
     "text": [
      "['j', 'k', 'l', 'i']\n"
     ]
    }
   ],
   "source": [
    "print(list6[:4])"
   ]
  },
  {
   "cell_type": "code",
   "execution_count": 13,
   "id": "8bc8e954-e622-45e5-b42a-e361dcecd0e0",
   "metadata": {},
   "outputs": [
    {
     "name": "stdout",
     "output_type": "stream",
     "text": [
      "['l', 'i', 'o']\n"
     ]
    }
   ],
   "source": [
    "print(list6[2:])"
   ]
  },
  {
   "cell_type": "code",
   "execution_count": 14,
   "id": "e578de9f-3df6-4bfc-b416-b1f6c63b84ca",
   "metadata": {},
   "outputs": [
    {
     "name": "stdout",
     "output_type": "stream",
     "text": [
      "['l', 'i']\n"
     ]
    }
   ],
   "source": [
    "print(list6[2:4])\n"
   ]
  },
  {
   "cell_type": "code",
   "execution_count": 15,
   "id": "ed639cee-39cf-475b-9783-0e32925afdb7",
   "metadata": {},
   "outputs": [
    {
     "name": "stdout",
     "output_type": "stream",
     "text": [
      "['k', 'l', 'i']\n"
     ]
    }
   ],
   "source": [
    "print(list6[-4:-1])"
   ]
  },
  {
   "cell_type": "code",
   "execution_count": 16,
   "id": "28c352cf-7165-4df9-b91d-bcf43e4786b6",
   "metadata": {},
   "outputs": [
    {
     "name": "stdout",
     "output_type": "stream",
     "text": [
      "['apple', 'banana', 'watermelon', 'cherry']\n"
     ]
    }
   ],
   "source": [
    "list7 = [\"apple\", \"banana\", \"cherry\"]\n",
    "list7.insert(2, \"watermelon\")\n",
    "print(list7)"
   ]
  },
  {
   "cell_type": "code",
   "execution_count": 17,
   "id": "0686fcc1-dc8a-4f05-918a-a1588e59dcb5",
   "metadata": {},
   "outputs": [
    {
     "name": "stdout",
     "output_type": "stream",
     "text": [
      "['apple', 'banana', 'watermelon', 'cherry', 'orange']\n"
     ]
    }
   ],
   "source": [
    "list7.append(\"orange\")\n",
    "print(list7)"
   ]
  },
  {
   "cell_type": "code",
   "execution_count": 18,
   "id": "bb4ea177-3511-499f-921a-725881cda452",
   "metadata": {},
   "outputs": [
    {
     "name": "stdout",
     "output_type": "stream",
     "text": [
      "['apple', 'orange', 'banana', 'watermelon', 'cherry', 'orange']\n"
     ]
    }
   ],
   "source": [
    "list7.insert(1, \"orange\")\n",
    "print(list7)"
   ]
  },
  {
   "cell_type": "code",
   "execution_count": 19,
   "id": "7f87a905-c7fb-4a7a-903a-7b39c62da9a5",
   "metadata": {},
   "outputs": [
    {
     "name": "stdout",
     "output_type": "stream",
     "text": [
      "['orange', 'apple', 'orange', 'banana', 'watermelon', 'cherry', 'orange']\n"
     ]
    }
   ],
   "source": [
    "list7.insert(0, \"orange\")\n",
    "print(list7)"
   ]
  },
  {
   "cell_type": "code",
   "execution_count": 20,
   "id": "0757d8d7-6f70-44c4-ae83-d696021223bc",
   "metadata": {},
   "outputs": [
    {
     "name": "stdout",
     "output_type": "stream",
     "text": [
      "['apple', 'banana', 'cherry', 'mango', 'pineapple', 'papaya']\n"
     ]
    }
   ],
   "source": [
    "list8 = [\"apple\", \"banana\", \"cherry\"]\n",
    "list9 = [\"mango\", \"pineapple\", \"papaya\"]\n",
    "\n",
    "list8.extend(list9)\n",
    "\n",
    "print(list8)\n"
   ]
  },
  {
   "cell_type": "code",
   "execution_count": 21,
   "id": "b597ed29-b068-4df3-a7f9-b1e0311e50df",
   "metadata": {},
   "outputs": [
    {
     "name": "stdout",
     "output_type": "stream",
     "text": [
      "['apple', 'cherry']\n"
     ]
    }
   ],
   "source": [
    "thislist = [\"apple\", \"banana\", \"cherry\"]\n",
    "thislist.remove(\"banana\")\n",
    "print(thislist)\n"
   ]
  },
  {
   "cell_type": "code",
   "execution_count": 22,
   "id": "bf08daf7-c633-465d-b88b-4a88158aef92",
   "metadata": {},
   "outputs": [
    {
     "name": "stdout",
     "output_type": "stream",
     "text": [
      "['apple', 'cherry']\n"
     ]
    }
   ],
   "source": [
    "thislist = [\"apple\", \"banana\", \"cherry\"]\n",
    "thislist.pop(1)\n",
    "print(thislist)"
   ]
  },
  {
   "cell_type": "code",
   "execution_count": 23,
   "id": "ffec285f-fb6b-4fa5-baf7-a9aa424ad39e",
   "metadata": {},
   "outputs": [
    {
     "name": "stdout",
     "output_type": "stream",
     "text": [
      "['apple', 'banana']\n"
     ]
    }
   ],
   "source": [
    "thislist = [\"apple\", \"banana\", \"cherry\"]\n",
    "thislist.pop()\n",
    "print(thislist)"
   ]
  },
  {
   "cell_type": "code",
   "execution_count": 24,
   "id": "9ed88bd9-bbb1-4d4f-a388-036ba055cd4e",
   "metadata": {},
   "outputs": [
    {
     "name": "stdout",
     "output_type": "stream",
     "text": [
      "['banana', 'cherry']\n"
     ]
    }
   ],
   "source": [
    "thislist = [\"apple\", \"banana\", \"cherry\"]\n",
    "del thislist[0]\n",
    "print(thislist)"
   ]
  },
  {
   "cell_type": "code",
   "execution_count": 25,
   "id": "b82b5bae-9137-4024-8953-de324e714101",
   "metadata": {},
   "outputs": [
    {
     "name": "stdout",
     "output_type": "stream",
     "text": [
      "[]\n"
     ]
    }
   ],
   "source": [
    "thislist = [\"apple\", \"banana\", \"cherry\"]\n",
    "thislist.clear()\n",
    "print(thislist)\n"
   ]
  },
  {
   "cell_type": "code",
   "execution_count": 26,
   "id": "3859eddf-5990-48b0-bbb1-8ca47cbb4429",
   "metadata": {},
   "outputs": [],
   "source": [
    "myset = {\"apple\", \"banana\", \"cherry\"}"
   ]
  },
  {
   "cell_type": "code",
   "execution_count": 27,
   "id": "546f8360-8523-459c-b692-4a644df84616",
   "metadata": {},
   "outputs": [
    {
     "name": "stdout",
     "output_type": "stream",
     "text": [
      "{'banana', 'apple', 'cherry'}\n"
     ]
    }
   ],
   "source": [
    "print(myset)\n"
   ]
  },
  {
   "cell_type": "code",
   "execution_count": 28,
   "id": "88abbb0b-4bc2-4006-905e-1dddc3d6f7f5",
   "metadata": {},
   "outputs": [
    {
     "name": "stdout",
     "output_type": "stream",
     "text": [
      "{'banana', 'apple', 'cherry'}\n"
     ]
    }
   ],
   "source": [
    "thisset = {\"apple\", \"banana\", \"cherry\"}\n",
    "print(thisset)"
   ]
  },
  {
   "cell_type": "code",
   "execution_count": 29,
   "id": "669ed8c2-9436-464d-a5c2-5d590df5938c",
   "metadata": {},
   "outputs": [
    {
     "name": "stdout",
     "output_type": "stream",
     "text": [
      "{'banana', 'apple', 'cherry'}\n"
     ]
    }
   ],
   "source": [
    "thisset = {\"apple\", \"banana\", \"cherry\", \"apple\"}\n",
    "\n",
    "print(thisset)"
   ]
  },
  {
   "cell_type": "code",
   "execution_count": 30,
   "id": "ccd11aef-aa9e-4626-ac2e-5ac5b79fa405",
   "metadata": {},
   "outputs": [
    {
     "name": "stdout",
     "output_type": "stream",
     "text": [
      "{'banana', 'apple', 2, 'cherry', True}\n"
     ]
    }
   ],
   "source": [
    "set1 = {\"apple\", \"banana\", \"cherry\", True, 1, 2}\n",
    "\n",
    "print(set1)"
   ]
  },
  {
   "cell_type": "code",
   "execution_count": 31,
   "id": "5650870f-074e-43d7-acc4-ede057cb0ad0",
   "metadata": {},
   "outputs": [
    {
     "name": "stdout",
     "output_type": "stream",
     "text": [
      "{False, 'apple', 'cherry', True, 'banana'}\n"
     ]
    }
   ],
   "source": [
    "set2= {\"apple\", \"banana\", \"cherry\", False, True, 0}\n",
    "\n",
    "print(set2)"
   ]
  },
  {
   "cell_type": "code",
   "execution_count": 32,
   "id": "aefa2923-1300-4641-8add-2c0b7bf37ef7",
   "metadata": {},
   "outputs": [
    {
     "name": "stdout",
     "output_type": "stream",
     "text": [
      "3\n"
     ]
    }
   ],
   "source": [
    "thisset = {\"apple\", \"banana\", \"cherry\"}\n",
    "\n",
    "print(len(thisset))\n"
   ]
  },
  {
   "cell_type": "code",
   "execution_count": 33,
   "id": "dad5611b-4fc4-49e4-ab47-c4096875afa6",
   "metadata": {},
   "outputs": [
    {
     "name": "stdout",
     "output_type": "stream",
     "text": [
      "{True, 34, 40, 'abc', 'male'}\n"
     ]
    }
   ],
   "source": [
    "set3 = {\"abc\", 34, True, 40, \"male\"}\n",
    "\n",
    "print(set3)\n"
   ]
  },
  {
   "cell_type": "code",
   "execution_count": 34,
   "id": "92f14d9c-7704-45ae-b174-1f96fa281fb9",
   "metadata": {},
   "outputs": [
    {
     "name": "stdout",
     "output_type": "stream",
     "text": [
      "<class 'set'>\n"
     ]
    }
   ],
   "source": [
    "myset = {\"apple\", \"banana\", \"cherry\"}\n",
    "print(type(myset))"
   ]
  },
  {
   "cell_type": "code",
   "execution_count": 35,
   "id": "5f99aa74-409d-4a37-94b9-2386bf886a4a",
   "metadata": {},
   "outputs": [
    {
     "name": "stdout",
     "output_type": "stream",
     "text": [
      "{'banana', 'apple', 'cherry'}\n"
     ]
    }
   ],
   "source": [
    "thisset = set((\"apple\", \"banana\", \"cherry\"))\n",
    "print(thisset)"
   ]
  },
  {
   "cell_type": "code",
   "execution_count": 36,
   "id": "71706382-8a14-484b-b8ae-78bf65dbf3ae",
   "metadata": {},
   "outputs": [
    {
     "name": "stdout",
     "output_type": "stream",
     "text": [
      "True\n"
     ]
    }
   ],
   "source": [
    "thisset = {\"apple\", \"banana\", \"cherry\"}\n",
    "\n",
    "print(\"banana\" in thisset)\n"
   ]
  },
  {
   "cell_type": "code",
   "execution_count": 37,
   "id": "cc40cd92-7c90-4746-bda1-86a3b2ced28e",
   "metadata": {},
   "outputs": [
    {
     "name": "stdout",
     "output_type": "stream",
     "text": [
      "{'banana', 'apple', 'orange', 'cherry'}\n"
     ]
    }
   ],
   "source": [
    "thisset = {\"apple\", \"banana\", \"cherry\"}\n",
    "\n",
    "thisset.add(\"orange\")\n",
    "\n",
    "print(thisset)\n"
   ]
  },
  {
   "cell_type": "code",
   "execution_count": 38,
   "id": "36d2d266-ff33-4dbe-aa5d-2e9555645cfe",
   "metadata": {},
   "outputs": [
    {
     "name": "stdout",
     "output_type": "stream",
     "text": [
      "{'banana', 'apple', 'cherry', 'pineapple', 'papaya', 'mango'}\n"
     ]
    }
   ],
   "source": [
    "set9 = {\"apple\", \"banana\", \"cherry\"}\n",
    "set6 = {\"pineapple\", \"mango\", \"papaya\"}\n",
    "\n",
    "set9.update(set6)\n",
    "\n",
    "print(set9)"
   ]
  },
  {
   "cell_type": "code",
   "execution_count": 39,
   "id": "19e2af82-d83e-4ed1-b65b-7ac3e923e1ac",
   "metadata": {},
   "outputs": [
    {
     "name": "stdout",
     "output_type": "stream",
     "text": [
      "{'apple', 'cherry', 'orange', 'banana', 'kiwi'}\n"
     ]
    }
   ],
   "source": [
    "thisset = {\"apple\", \"banana\", \"cherry\"}\n",
    "mylist = [\"kiwi\", \"orange\"]\n",
    "\n",
    "thisset.update(mylist)\n",
    "\n",
    "print(thisset)"
   ]
  },
  {
   "cell_type": "code",
   "execution_count": 40,
   "id": "f7c51401-3321-444f-84c9-7fb243f9817f",
   "metadata": {},
   "outputs": [
    {
     "name": "stdout",
     "output_type": "stream",
     "text": [
      "{'apple', 'cherry'}\n"
     ]
    }
   ],
   "source": [
    "thisset = {\"apple\", \"banana\", \"cherry\"}\n",
    "\n",
    "thisset.remove(\"banana\")\n",
    "\n",
    "print(thisset)"
   ]
  },
  {
   "cell_type": "code",
   "execution_count": 41,
   "id": "dbed6b0d-3d5d-453a-b7fa-428ffd26bedd",
   "metadata": {},
   "outputs": [
    {
     "name": "stdout",
     "output_type": "stream",
     "text": [
      "{'apple', 'cherry'}\n"
     ]
    }
   ],
   "source": [
    "set5 = {\"apple\", \"banana\", \"cherry\"}\n",
    "\n",
    "set5.discard(\"banana\")\n",
    "\n",
    "print(set5)"
   ]
  },
  {
   "cell_type": "code",
   "execution_count": 43,
   "id": "7de127d9-3943-45fb-8558-703dbf2476c4",
   "metadata": {},
   "outputs": [
    {
     "name": "stdout",
     "output_type": "stream",
     "text": [
      "{'banana', 'apple', 'cherry'}\n"
     ]
    }
   ],
   "source": [
    "thisset = {\"apple\", \"banana\", \"cherry\"}\n",
    "\n",
    "\n",
    "\n",
    "print(thisset)"
   ]
  },
  {
   "cell_type": "code",
   "execution_count": 44,
   "id": "48814b6b-a557-4d83-bcf7-f7ef17c7da5a",
   "metadata": {},
   "outputs": [
    {
     "name": "stdout",
     "output_type": "stream",
     "text": [
      "{'name': 'neeha', 'nickname': 'honey', 'year': 2004}\n"
     ]
    }
   ],
   "source": [
    "thisdict =\t{ \"name\": \"neeha\", \"nickname\": \"honey\", \"year\": 2004}\n",
    "print(thisdict)\n"
   ]
  },
  {
   "cell_type": "code",
   "execution_count": 45,
   "id": "d08d3ff2-761d-4d6f-ac7f-56db0ba53f84",
   "metadata": {},
   "outputs": [
    {
     "name": "stdout",
     "output_type": "stream",
     "text": [
      "neeha\n"
     ]
    }
   ],
   "source": [
    "print(thisdict[\"name\"])"
   ]
  },
  {
   "cell_type": "code",
   "execution_count": 46,
   "id": "7b5d06cc-32c7-4821-af7f-4b3cb0056975",
   "metadata": {},
   "outputs": [],
   "source": [
    "thisdict = {\n",
    "  \"brand\": \"Ford\",\n",
    "  \"model\": \"Mustang\",\n",
    "  \"year\": 1964\n",
    "}\n",
    "thisdict.update({\"year\": 2020})\n"
   ]
  },
  {
   "cell_type": "code",
   "execution_count": null,
   "id": "27385e3f-01b4-4466-aea4-2d4008b9e644",
   "metadata": {},
   "outputs": [],
   "source": []
  },
  {
   "cell_type": "code",
   "execution_count": 48,
   "id": "d8b2f1a5-1890-48b7-95e0-c0ecf4c5dc56",
   "metadata": {},
   "outputs": [
    {
     "name": "stdout",
     "output_type": "stream",
     "text": [
      "{'brand': 'Ford', 'year': 1964}\n"
     ]
    }
   ],
   "source": [
    "dict = { \"brand\": \"Ford\", \"model\": \"Mustang\", \"year\": 1964}\n",
    "dict.pop(\"model\")\n",
    "print(dict)"
   ]
  },
  {
   "cell_type": "code",
   "execution_count": null,
   "id": "b6287a0a-d605-4d9a-bae9-d73828536775",
   "metadata": {},
   "outputs": [],
   "source": []
  }
 ],
 "metadata": {
  "kernelspec": {
   "display_name": "Python 3 (ipykernel)",
   "language": "python",
   "name": "python3"
  },
  "language_info": {
   "codemirror_mode": {
    "name": "ipython",
    "version": 3
   },
   "file_extension": ".py",
   "mimetype": "text/x-python",
   "name": "python",
   "nbconvert_exporter": "python",
   "pygments_lexer": "ipython3",
   "version": "3.11.7"
  }
 },
 "nbformat": 4,
 "nbformat_minor": 5
}
